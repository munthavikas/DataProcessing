{
 "cells": [
  {
   "cell_type": "code",
   "execution_count": 1,
   "id": "17bcde3f-803a-46cf-a7ca-95b527a4f685",
   "metadata": {},
   "outputs": [],
   "source": [
    "import numpy as np\n"
   ]
  },
  {
   "cell_type": "code",
   "execution_count": 2,
   "id": "83344b03-b77e-4f9f-89bb-205da578703c",
   "metadata": {},
   "outputs": [],
   "source": [
    "import pandas as pd"
   ]
  },
  {
   "cell_type": "code",
   "execution_count": 3,
   "id": "860df536-4797-4949-b01b-cd48a4b201c5",
   "metadata": {},
   "outputs": [],
   "source": [
    "import matplotlib.pyplot as plt"
   ]
  },
  {
   "cell_type": "code",
   "execution_count": 4,
   "id": "6abd22c8-ec8e-4eb7-b296-ea0b1b467250",
   "metadata": {},
   "outputs": [],
   "source": [
    "data = pd.read_csv('delhivery.csv')"
   ]
  },
  {
   "cell_type": "code",
   "execution_count": 5,
   "id": "d8350a4d-0478-46a9-b7cb-941133853f86",
   "metadata": {},
   "outputs": [],
   "source": [
    "data = pd.read_csv('delhivery.csv')"
   ]
  },
  {
   "cell_type": "code",
   "execution_count": 6,
   "id": "8f994356-90f4-413d-b3a9-40a7dab883fa",
   "metadata": {},
   "outputs": [
    {
     "data": {
      "text/html": [
       "<div>\n",
       "<style scoped>\n",
       "    .dataframe tbody tr th:only-of-type {\n",
       "        vertical-align: middle;\n",
       "    }\n",
       "\n",
       "    .dataframe tbody tr th {\n",
       "        vertical-align: top;\n",
       "    }\n",
       "\n",
       "    .dataframe thead th {\n",
       "        text-align: right;\n",
       "    }\n",
       "</style>\n",
       "<table border=\"1\" class=\"dataframe\">\n",
       "  <thead>\n",
       "    <tr style=\"text-align: right;\">\n",
       "      <th></th>\n",
       "      <th>data</th>\n",
       "      <th>trip_creation_time</th>\n",
       "      <th>route_schedule_uuid</th>\n",
       "      <th>route_type</th>\n",
       "      <th>trip_uuid</th>\n",
       "      <th>source_center</th>\n",
       "      <th>source_name</th>\n",
       "      <th>destination_center</th>\n",
       "      <th>destination_name</th>\n",
       "      <th>od_start_time</th>\n",
       "      <th>...</th>\n",
       "      <th>cutoff_timestamp</th>\n",
       "      <th>actual_distance_to_destination</th>\n",
       "      <th>actual_time</th>\n",
       "      <th>osrm_time</th>\n",
       "      <th>osrm_distance</th>\n",
       "      <th>factor</th>\n",
       "      <th>segment_actual_time</th>\n",
       "      <th>segment_osrm_time</th>\n",
       "      <th>segment_osrm_distance</th>\n",
       "      <th>segment_factor</th>\n",
       "    </tr>\n",
       "  </thead>\n",
       "  <tbody>\n",
       "    <tr>\n",
       "      <th>0</th>\n",
       "      <td>training</td>\n",
       "      <td>2018-09-20 02:35:36.476840</td>\n",
       "      <td>thanos::sroute:eb7bfc78-b351-4c0e-a951-fa3d5c3...</td>\n",
       "      <td>Carting</td>\n",
       "      <td>trip-153741093647649320</td>\n",
       "      <td>IND388121AAA</td>\n",
       "      <td>Anand_VUNagar_DC (Gujarat)</td>\n",
       "      <td>IND388620AAB</td>\n",
       "      <td>Khambhat_MotvdDPP_D (Gujarat)</td>\n",
       "      <td>2018-09-20 03:21:32.418600</td>\n",
       "      <td>...</td>\n",
       "      <td>2018-09-20 04:27:55</td>\n",
       "      <td>10.435660</td>\n",
       "      <td>14.0</td>\n",
       "      <td>11.0</td>\n",
       "      <td>11.9653</td>\n",
       "      <td>1.272727</td>\n",
       "      <td>14.0</td>\n",
       "      <td>11.0</td>\n",
       "      <td>11.9653</td>\n",
       "      <td>1.272727</td>\n",
       "    </tr>\n",
       "    <tr>\n",
       "      <th>1</th>\n",
       "      <td>training</td>\n",
       "      <td>2018-09-20 02:35:36.476840</td>\n",
       "      <td>thanos::sroute:eb7bfc78-b351-4c0e-a951-fa3d5c3...</td>\n",
       "      <td>Carting</td>\n",
       "      <td>trip-153741093647649320</td>\n",
       "      <td>IND388121AAA</td>\n",
       "      <td>Anand_VUNagar_DC (Gujarat)</td>\n",
       "      <td>IND388620AAB</td>\n",
       "      <td>Khambhat_MotvdDPP_D (Gujarat)</td>\n",
       "      <td>2018-09-20 03:21:32.418600</td>\n",
       "      <td>...</td>\n",
       "      <td>2018-09-20 04:17:55</td>\n",
       "      <td>18.936842</td>\n",
       "      <td>24.0</td>\n",
       "      <td>20.0</td>\n",
       "      <td>21.7243</td>\n",
       "      <td>1.200000</td>\n",
       "      <td>10.0</td>\n",
       "      <td>9.0</td>\n",
       "      <td>9.7590</td>\n",
       "      <td>1.111111</td>\n",
       "    </tr>\n",
       "    <tr>\n",
       "      <th>2</th>\n",
       "      <td>training</td>\n",
       "      <td>2018-09-20 02:35:36.476840</td>\n",
       "      <td>thanos::sroute:eb7bfc78-b351-4c0e-a951-fa3d5c3...</td>\n",
       "      <td>Carting</td>\n",
       "      <td>trip-153741093647649320</td>\n",
       "      <td>IND388121AAA</td>\n",
       "      <td>Anand_VUNagar_DC (Gujarat)</td>\n",
       "      <td>IND388620AAB</td>\n",
       "      <td>Khambhat_MotvdDPP_D (Gujarat)</td>\n",
       "      <td>2018-09-20 03:21:32.418600</td>\n",
       "      <td>...</td>\n",
       "      <td>2018-09-20 04:01:19.505586</td>\n",
       "      <td>27.637279</td>\n",
       "      <td>40.0</td>\n",
       "      <td>28.0</td>\n",
       "      <td>32.5395</td>\n",
       "      <td>1.428571</td>\n",
       "      <td>16.0</td>\n",
       "      <td>7.0</td>\n",
       "      <td>10.8152</td>\n",
       "      <td>2.285714</td>\n",
       "    </tr>\n",
       "    <tr>\n",
       "      <th>3</th>\n",
       "      <td>training</td>\n",
       "      <td>2018-09-20 02:35:36.476840</td>\n",
       "      <td>thanos::sroute:eb7bfc78-b351-4c0e-a951-fa3d5c3...</td>\n",
       "      <td>Carting</td>\n",
       "      <td>trip-153741093647649320</td>\n",
       "      <td>IND388121AAA</td>\n",
       "      <td>Anand_VUNagar_DC (Gujarat)</td>\n",
       "      <td>IND388620AAB</td>\n",
       "      <td>Khambhat_MotvdDPP_D (Gujarat)</td>\n",
       "      <td>2018-09-20 03:21:32.418600</td>\n",
       "      <td>...</td>\n",
       "      <td>2018-09-20 03:39:57</td>\n",
       "      <td>36.118028</td>\n",
       "      <td>62.0</td>\n",
       "      <td>40.0</td>\n",
       "      <td>45.5620</td>\n",
       "      <td>1.550000</td>\n",
       "      <td>21.0</td>\n",
       "      <td>12.0</td>\n",
       "      <td>13.0224</td>\n",
       "      <td>1.750000</td>\n",
       "    </tr>\n",
       "    <tr>\n",
       "      <th>4</th>\n",
       "      <td>training</td>\n",
       "      <td>2018-09-20 02:35:36.476840</td>\n",
       "      <td>thanos::sroute:eb7bfc78-b351-4c0e-a951-fa3d5c3...</td>\n",
       "      <td>Carting</td>\n",
       "      <td>trip-153741093647649320</td>\n",
       "      <td>IND388121AAA</td>\n",
       "      <td>Anand_VUNagar_DC (Gujarat)</td>\n",
       "      <td>IND388620AAB</td>\n",
       "      <td>Khambhat_MotvdDPP_D (Gujarat)</td>\n",
       "      <td>2018-09-20 03:21:32.418600</td>\n",
       "      <td>...</td>\n",
       "      <td>2018-09-20 03:33:55</td>\n",
       "      <td>39.386040</td>\n",
       "      <td>68.0</td>\n",
       "      <td>44.0</td>\n",
       "      <td>54.2181</td>\n",
       "      <td>1.545455</td>\n",
       "      <td>6.0</td>\n",
       "      <td>5.0</td>\n",
       "      <td>3.9153</td>\n",
       "      <td>1.200000</td>\n",
       "    </tr>\n",
       "  </tbody>\n",
       "</table>\n",
       "<p>5 rows × 24 columns</p>\n",
       "</div>"
      ],
      "text/plain": [
       "       data          trip_creation_time  \\\n",
       "0  training  2018-09-20 02:35:36.476840   \n",
       "1  training  2018-09-20 02:35:36.476840   \n",
       "2  training  2018-09-20 02:35:36.476840   \n",
       "3  training  2018-09-20 02:35:36.476840   \n",
       "4  training  2018-09-20 02:35:36.476840   \n",
       "\n",
       "                                 route_schedule_uuid route_type  \\\n",
       "0  thanos::sroute:eb7bfc78-b351-4c0e-a951-fa3d5c3...    Carting   \n",
       "1  thanos::sroute:eb7bfc78-b351-4c0e-a951-fa3d5c3...    Carting   \n",
       "2  thanos::sroute:eb7bfc78-b351-4c0e-a951-fa3d5c3...    Carting   \n",
       "3  thanos::sroute:eb7bfc78-b351-4c0e-a951-fa3d5c3...    Carting   \n",
       "4  thanos::sroute:eb7bfc78-b351-4c0e-a951-fa3d5c3...    Carting   \n",
       "\n",
       "                 trip_uuid source_center                 source_name  \\\n",
       "0  trip-153741093647649320  IND388121AAA  Anand_VUNagar_DC (Gujarat)   \n",
       "1  trip-153741093647649320  IND388121AAA  Anand_VUNagar_DC (Gujarat)   \n",
       "2  trip-153741093647649320  IND388121AAA  Anand_VUNagar_DC (Gujarat)   \n",
       "3  trip-153741093647649320  IND388121AAA  Anand_VUNagar_DC (Gujarat)   \n",
       "4  trip-153741093647649320  IND388121AAA  Anand_VUNagar_DC (Gujarat)   \n",
       "\n",
       "  destination_center               destination_name  \\\n",
       "0       IND388620AAB  Khambhat_MotvdDPP_D (Gujarat)   \n",
       "1       IND388620AAB  Khambhat_MotvdDPP_D (Gujarat)   \n",
       "2       IND388620AAB  Khambhat_MotvdDPP_D (Gujarat)   \n",
       "3       IND388620AAB  Khambhat_MotvdDPP_D (Gujarat)   \n",
       "4       IND388620AAB  Khambhat_MotvdDPP_D (Gujarat)   \n",
       "\n",
       "                od_start_time  ...            cutoff_timestamp  \\\n",
       "0  2018-09-20 03:21:32.418600  ...         2018-09-20 04:27:55   \n",
       "1  2018-09-20 03:21:32.418600  ...         2018-09-20 04:17:55   \n",
       "2  2018-09-20 03:21:32.418600  ...  2018-09-20 04:01:19.505586   \n",
       "3  2018-09-20 03:21:32.418600  ...         2018-09-20 03:39:57   \n",
       "4  2018-09-20 03:21:32.418600  ...         2018-09-20 03:33:55   \n",
       "\n",
       "   actual_distance_to_destination  actual_time  osrm_time osrm_distance  \\\n",
       "0                       10.435660         14.0       11.0       11.9653   \n",
       "1                       18.936842         24.0       20.0       21.7243   \n",
       "2                       27.637279         40.0       28.0       32.5395   \n",
       "3                       36.118028         62.0       40.0       45.5620   \n",
       "4                       39.386040         68.0       44.0       54.2181   \n",
       "\n",
       "     factor  segment_actual_time  segment_osrm_time  segment_osrm_distance  \\\n",
       "0  1.272727                 14.0               11.0                11.9653   \n",
       "1  1.200000                 10.0                9.0                 9.7590   \n",
       "2  1.428571                 16.0                7.0                10.8152   \n",
       "3  1.550000                 21.0               12.0                13.0224   \n",
       "4  1.545455                  6.0                5.0                 3.9153   \n",
       "\n",
       "   segment_factor  \n",
       "0        1.272727  \n",
       "1        1.111111  \n",
       "2        2.285714  \n",
       "3        1.750000  \n",
       "4        1.200000  \n",
       "\n",
       "[5 rows x 24 columns]"
      ]
     },
     "execution_count": 6,
     "metadata": {},
     "output_type": "execute_result"
    }
   ],
   "source": [
    "data.head()"
   ]
  },
  {
   "cell_type": "code",
   "execution_count": 7,
   "id": "b5b5d648-902f-4a4e-bee1-6a2afc85a8d1",
   "metadata": {},
   "outputs": [
    {
     "data": {
      "text/plain": [
       "(144867, 24)"
      ]
     },
     "execution_count": 7,
     "metadata": {},
     "output_type": "execute_result"
    }
   ],
   "source": [
    "data.shape"
   ]
  },
  {
   "cell_type": "code",
   "execution_count": 8,
   "id": "236553bc-c127-428b-ac39-70d2c4486309",
   "metadata": {},
   "outputs": [
    {
     "name": "stdout",
     "output_type": "stream",
     "text": [
      "<class 'pandas.core.frame.DataFrame'>\n",
      "RangeIndex: 144867 entries, 0 to 144866\n",
      "Data columns (total 24 columns):\n",
      " #   Column                          Non-Null Count   Dtype  \n",
      "---  ------                          --------------   -----  \n",
      " 0   data                            144867 non-null  object \n",
      " 1   trip_creation_time              144867 non-null  object \n",
      " 2   route_schedule_uuid             144867 non-null  object \n",
      " 3   route_type                      144867 non-null  object \n",
      " 4   trip_uuid                       144867 non-null  object \n",
      " 5   source_center                   144867 non-null  object \n",
      " 6   source_name                     144574 non-null  object \n",
      " 7   destination_center              144867 non-null  object \n",
      " 8   destination_name                144606 non-null  object \n",
      " 9   od_start_time                   144867 non-null  object \n",
      " 10  od_end_time                     144867 non-null  object \n",
      " 11  start_scan_to_end_scan          144867 non-null  float64\n",
      " 12  is_cutoff                       144867 non-null  bool   \n",
      " 13  cutoff_factor                   144867 non-null  int64  \n",
      " 14  cutoff_timestamp                144867 non-null  object \n",
      " 15  actual_distance_to_destination  144867 non-null  float64\n",
      " 16  actual_time                     144867 non-null  float64\n",
      " 17  osrm_time                       144867 non-null  float64\n",
      " 18  osrm_distance                   144867 non-null  float64\n",
      " 19  factor                          144867 non-null  float64\n",
      " 20  segment_actual_time             144867 non-null  float64\n",
      " 21  segment_osrm_time               144867 non-null  float64\n",
      " 22  segment_osrm_distance           144867 non-null  float64\n",
      " 23  segment_factor                  144867 non-null  float64\n",
      "dtypes: bool(1), float64(10), int64(1), object(12)\n",
      "memory usage: 25.6+ MB\n"
     ]
    }
   ],
   "source": [
    "data.info()"
   ]
  },
  {
   "cell_type": "code",
   "execution_count": 9,
   "id": "9973d396-cd18-45fc-8f06-058aea79c087",
   "metadata": {},
   "outputs": [
    {
     "data": {
      "text/plain": [
       "data                                0\n",
       "trip_creation_time                  0\n",
       "route_schedule_uuid                 0\n",
       "route_type                          0\n",
       "trip_uuid                           0\n",
       "source_center                       0\n",
       "source_name                       293\n",
       "destination_center                  0\n",
       "destination_name                  261\n",
       "od_start_time                       0\n",
       "od_end_time                         0\n",
       "start_scan_to_end_scan              0\n",
       "is_cutoff                           0\n",
       "cutoff_factor                       0\n",
       "cutoff_timestamp                    0\n",
       "actual_distance_to_destination      0\n",
       "actual_time                         0\n",
       "osrm_time                           0\n",
       "osrm_distance                       0\n",
       "factor                              0\n",
       "segment_actual_time                 0\n",
       "segment_osrm_time                   0\n",
       "segment_osrm_distance               0\n",
       "segment_factor                      0\n",
       "dtype: int64"
      ]
     },
     "execution_count": 9,
     "metadata": {},
     "output_type": "execute_result"
    }
   ],
   "source": [
    "data.isnull().sum()"
   ]
  },
  {
   "cell_type": "code",
   "execution_count": 10,
   "id": "1a0b949d-1fd3-4415-bcab-db85dca885b6",
   "metadata": {},
   "outputs": [
    {
     "data": {
      "text/plain": [
       "source_name\n",
       "Gurgaon_Bilaspur_HB (Haryana)            23347\n",
       "Bangalore_Nelmngla_H (Karnataka)          9975\n",
       "Bhiwandi_Mankoli_HB (Maharashtra)         9088\n",
       "Pune_Tathawde_H (Maharashtra)             4061\n",
       "Hyderabad_Shamshbd_H (Telangana)          3340\n",
       "                                         ...  \n",
       "Shahjhnpur_NavdaCln_D (Uttar Pradesh)        1\n",
       "Soro_UttarDPP_D (Orissa)                     1\n",
       "Kayamkulam_Bhrnikvu_D (Kerala)               1\n",
       "Krishnanagar_AnadiDPP_D (West Bengal)        1\n",
       "Faridabad_Old (Haryana)                      1\n",
       "Name: count, Length: 1498, dtype: int64"
      ]
     },
     "execution_count": 10,
     "metadata": {},
     "output_type": "execute_result"
    }
   ],
   "source": [
    "data['source_name'].value_counts()"
   ]
  },
  {
   "cell_type": "code",
   "execution_count": 11,
   "id": "eaa5aa7c-fc1f-4f7d-8a24-0e56ba4ed057",
   "metadata": {},
   "outputs": [
    {
     "data": {
      "text/plain": [
       "destination_name\n",
       "Gurgaon_Bilaspur_HB (Haryana)        15192\n",
       "Bangalore_Nelmngla_H (Karnataka)     11019\n",
       "Bhiwandi_Mankoli_HB (Maharashtra)     5492\n",
       "Hyderabad_Shamshbd_H (Telangana)      5142\n",
       "Kolkata_Dankuni_HB (West Bengal)      4892\n",
       "                                     ...  \n",
       "Hyd_Trimulgherry_Dc (Telangana)          1\n",
       "Vijayawada (Andhra Pradesh)              1\n",
       "Baghpat_Barout_D (Uttar Pradesh)         1\n",
       "Mumbai_Sanpada_CP (Maharashtra)          1\n",
       "Basta_Central_DPP_1 (Orissa)             1\n",
       "Name: count, Length: 1468, dtype: int64"
      ]
     },
     "execution_count": 11,
     "metadata": {},
     "output_type": "execute_result"
    }
   ],
   "source": [
    "data['destination_name'].value_counts()"
   ]
  },
  {
   "cell_type": "code",
   "execution_count": 12,
   "id": "66362348-23d0-4757-bf1f-5e0bd78b49b3",
   "metadata": {},
   "outputs": [],
   "source": [
    "data['source_name'] = data['source_name'].fillna('Missing')\n",
    "data['destination_name'] = data['destination_name'].fillna('Missing')"
   ]
  },
  {
   "cell_type": "code",
   "execution_count": 13,
   "id": "bf752173-1834-46cb-80d3-da34029c1537",
   "metadata": {},
   "outputs": [
    {
     "data": {
      "text/plain": [
       "data                              0\n",
       "trip_creation_time                0\n",
       "route_schedule_uuid               0\n",
       "route_type                        0\n",
       "trip_uuid                         0\n",
       "source_center                     0\n",
       "source_name                       0\n",
       "destination_center                0\n",
       "destination_name                  0\n",
       "od_start_time                     0\n",
       "od_end_time                       0\n",
       "start_scan_to_end_scan            0\n",
       "is_cutoff                         0\n",
       "cutoff_factor                     0\n",
       "cutoff_timestamp                  0\n",
       "actual_distance_to_destination    0\n",
       "actual_time                       0\n",
       "osrm_time                         0\n",
       "osrm_distance                     0\n",
       "factor                            0\n",
       "segment_actual_time               0\n",
       "segment_osrm_time                 0\n",
       "segment_osrm_distance             0\n",
       "segment_factor                    0\n",
       "dtype: int64"
      ]
     },
     "execution_count": 13,
     "metadata": {},
     "output_type": "execute_result"
    }
   ],
   "source": [
    "data.isnull().sum()"
   ]
  },
  {
   "cell_type": "code",
   "execution_count": 14,
   "id": "c40519e7-20cf-4bba-98f4-38a2f95a7458",
   "metadata": {},
   "outputs": [],
   "source": [
    "datetime_columns = ['trip_creation_time', 'od_start_time', 'od_end_time', 'cutoff_timestamp']\n",
    "\n",
    "for column in datetime_columns:\n",
    "    data[column] = pd.to_datetime(data[column], errors='coerce')"
   ]
  },
  {
   "cell_type": "code",
   "execution_count": 15,
   "id": "e20c4777-647f-4156-acc4-7a0d133ff407",
   "metadata": {},
   "outputs": [],
   "source": [
    "categorical_columns = ['route_type', 'source_center', 'destination_center']\n",
    "\n",
    "for column in categorical_columns:\n",
    "    data[column] = data[column].astype('category')"
   ]
  },
  {
   "cell_type": "code",
   "execution_count": 16,
   "id": "f541186b-59c4-4ef1-956e-9d151380a645",
   "metadata": {},
   "outputs": [
    {
     "name": "stdout",
     "output_type": "stream",
     "text": [
      "<class 'pandas.core.frame.DataFrame'>\n",
      "RangeIndex: 144867 entries, 0 to 144866\n",
      "Data columns (total 24 columns):\n",
      " #   Column                          Non-Null Count   Dtype         \n",
      "---  ------                          --------------   -----         \n",
      " 0   data                            144867 non-null  object        \n",
      " 1   trip_creation_time              144867 non-null  datetime64[ns]\n",
      " 2   route_schedule_uuid             144867 non-null  object        \n",
      " 3   route_type                      144867 non-null  category      \n",
      " 4   trip_uuid                       144867 non-null  object        \n",
      " 5   source_center                   144867 non-null  category      \n",
      " 6   source_name                     144867 non-null  object        \n",
      " 7   destination_center              144867 non-null  category      \n",
      " 8   destination_name                144867 non-null  object        \n",
      " 9   od_start_time                   144867 non-null  datetime64[ns]\n",
      " 10  od_end_time                     144867 non-null  datetime64[ns]\n",
      " 11  start_scan_to_end_scan          144867 non-null  float64       \n",
      " 12  is_cutoff                       144867 non-null  bool          \n",
      " 13  cutoff_factor                   144867 non-null  int64         \n",
      " 14  cutoff_timestamp                141438 non-null  datetime64[ns]\n",
      " 15  actual_distance_to_destination  144867 non-null  float64       \n",
      " 16  actual_time                     144867 non-null  float64       \n",
      " 17  osrm_time                       144867 non-null  float64       \n",
      " 18  osrm_distance                   144867 non-null  float64       \n",
      " 19  factor                          144867 non-null  float64       \n",
      " 20  segment_actual_time             144867 non-null  float64       \n",
      " 21  segment_osrm_time               144867 non-null  float64       \n",
      " 22  segment_osrm_distance           144867 non-null  float64       \n",
      " 23  segment_factor                  144867 non-null  float64       \n",
      "dtypes: bool(1), category(3), datetime64[ns](4), float64(10), int64(1), object(5)\n",
      "memory usage: 23.0+ MB\n"
     ]
    }
   ],
   "source": [
    "data.info()"
   ]
  },
  {
   "cell_type": "code",
   "execution_count": 17,
   "id": "b613277a-dbcf-41eb-a92a-d226bc45d811",
   "metadata": {},
   "outputs": [],
   "source": [
    "data['trip_duration'] = (data['od_end_time'] - data['od_start_time']).dt.total_seconds() / 60"
   ]
  },
  {
   "cell_type": "code",
   "execution_count": 18,
   "id": "42e47911-1f59-4731-9b06-ccfd4c1620f2",
   "metadata": {},
   "outputs": [
    {
     "data": {
      "text/html": [
       "<div>\n",
       "<style scoped>\n",
       "    .dataframe tbody tr th:only-of-type {\n",
       "        vertical-align: middle;\n",
       "    }\n",
       "\n",
       "    .dataframe tbody tr th {\n",
       "        vertical-align: top;\n",
       "    }\n",
       "\n",
       "    .dataframe thead th {\n",
       "        text-align: right;\n",
       "    }\n",
       "</style>\n",
       "<table border=\"1\" class=\"dataframe\">\n",
       "  <thead>\n",
       "    <tr style=\"text-align: right;\">\n",
       "      <th></th>\n",
       "      <th>trip_duration</th>\n",
       "      <th>day_of_week</th>\n",
       "      <th>month</th>\n",
       "    </tr>\n",
       "  </thead>\n",
       "  <tbody>\n",
       "    <tr>\n",
       "      <th>0</th>\n",
       "      <td>86.213637</td>\n",
       "      <td>3</td>\n",
       "      <td>9</td>\n",
       "    </tr>\n",
       "    <tr>\n",
       "      <th>1</th>\n",
       "      <td>86.213637</td>\n",
       "      <td>3</td>\n",
       "      <td>9</td>\n",
       "    </tr>\n",
       "    <tr>\n",
       "      <th>2</th>\n",
       "      <td>86.213637</td>\n",
       "      <td>3</td>\n",
       "      <td>9</td>\n",
       "    </tr>\n",
       "    <tr>\n",
       "      <th>3</th>\n",
       "      <td>86.213637</td>\n",
       "      <td>3</td>\n",
       "      <td>9</td>\n",
       "    </tr>\n",
       "    <tr>\n",
       "      <th>4</th>\n",
       "      <td>86.213637</td>\n",
       "      <td>3</td>\n",
       "      <td>9</td>\n",
       "    </tr>\n",
       "  </tbody>\n",
       "</table>\n",
       "</div>"
      ],
      "text/plain": [
       "   trip_duration  day_of_week  month\n",
       "0      86.213637            3      9\n",
       "1      86.213637            3      9\n",
       "2      86.213637            3      9\n",
       "3      86.213637            3      9\n",
       "4      86.213637            3      9"
      ]
     },
     "execution_count": 18,
     "metadata": {},
     "output_type": "execute_result"
    }
   ],
   "source": [
    "data['trip_duration'] = (data['od_end_time'] - data['od_start_time']).dt.total_seconds() / 60\n",
    "data['day_of_week'] = data['trip_creation_time'].dt.dayofweek\n",
    "data['month'] = data['trip_creation_time'].dt.month\n",
    "\n",
    "data[['trip_duration', 'day_of_week', 'month']].head()"
   ]
  },
  {
   "cell_type": "code",
   "execution_count": 19,
   "id": "7519db2e-fff2-475b-b8a7-2c75919424fe",
   "metadata": {},
   "outputs": [
    {
     "data": {
      "image/png": "[encoded data removed]",
      "text/plain": [
       "<Figure size 1200x600 with 1 Axes>"
      ]
     },
     "metadata": {},
     "output_type": "display_data"
    }
   ],
   "source": [
    "plt.figure(figsize=(12, 6))\n",
    "plt.hist(data['trip_duration'], bins=50, color='skyblue', edgecolor='black')\n",
    "plt.xlabel('Trip Duration (minutes)')\n",
    "plt.ylabel('Frequency')\n",
    "plt.title('Trip Duration Distribution')\n",
    "plt.show()"
   ]
  },
  {
   "cell_type": "code",
   "execution_count": 20,
   "id": "0e4e905a-ecb5-4bcb-b3db-06ef26dc8fd2",
   "metadata": {},
   "outputs": [
    {
     "data": {
      "image/png": "[encoded data removed]",
      "text/plain": [
       "<Figure size 1200x600 with 1 Axes>"
      ]
     },
     "metadata": {},
     "output_type": "display_data"
    }
   ],
   "source": [
    "plt.figure(figsize=(12, 6))\n",
    "plt.hist(data['actual_distance_to_destination'], bins=50, color='skyblue', edgecolor='black')\n",
    "plt.xlabel('Actual Distance to Destination (km)')\n",
    "plt.ylabel('Frequency')\n",
    "plt.title('Actual Distance to Destination Distribution')\n",
    "plt.show()"
   ]
  },
  {
   "cell_type": "code",
   "execution_count": 21,
   "id": "02c73f35-a9b0-41d5-abe2-18680a251fb6",
   "metadata": {},
   "outputs": [
    {
     "data": {
      "text/html": [
       "<div>\n",
       "<style scoped>\n",
       "    .dataframe tbody tr th:only-of-type {\n",
       "        vertical-align: middle;\n",
       "    }\n",
       "\n",
       "    .dataframe tbody tr th {\n",
       "        vertical-align: top;\n",
       "    }\n",
       "\n",
       "    .dataframe thead th {\n",
       "        text-align: right;\n",
       "    }\n",
       "</style>\n",
       "<table border=\"1\" class=\"dataframe\">\n",
       "  <thead>\n",
       "    <tr style=\"text-align: right;\">\n",
       "      <th></th>\n",
       "      <th>trip_duration</th>\n",
       "      <th>actual_distance_to_destination</th>\n",
       "      <th>trip_duration_outlier</th>\n",
       "      <th>actual_distance_to_destination_outlier</th>\n",
       "    </tr>\n",
       "  </thead>\n",
       "  <tbody>\n",
       "    <tr>\n",
       "      <th>0</th>\n",
       "      <td>86.213637</td>\n",
       "      <td>10.435660</td>\n",
       "      <td>False</td>\n",
       "      <td>False</td>\n",
       "    </tr>\n",
       "    <tr>\n",
       "      <th>1</th>\n",
       "      <td>86.213637</td>\n",
       "      <td>18.936842</td>\n",
       "      <td>False</td>\n",
       "      <td>False</td>\n",
       "    </tr>\n",
       "    <tr>\n",
       "      <th>2</th>\n",
       "      <td>86.213637</td>\n",
       "      <td>27.637279</td>\n",
       "      <td>False</td>\n",
       "      <td>False</td>\n",
       "    </tr>\n",
       "    <tr>\n",
       "      <th>3</th>\n",
       "      <td>86.213637</td>\n",
       "      <td>36.118028</td>\n",
       "      <td>False</td>\n",
       "      <td>False</td>\n",
       "    </tr>\n",
       "    <tr>\n",
       "      <th>4</th>\n",
       "      <td>86.213637</td>\n",
       "      <td>39.386040</td>\n",
       "      <td>False</td>\n",
       "      <td>False</td>\n",
       "    </tr>\n",
       "  </tbody>\n",
       "</table>\n",
       "</div>"
      ],
      "text/plain": [
       "   trip_duration  actual_distance_to_destination  trip_duration_outlier  \\\n",
       "0      86.213637                       10.435660                  False   \n",
       "1      86.213637                       18.936842                  False   \n",
       "2      86.213637                       27.637279                  False   \n",
       "3      86.213637                       36.118028                  False   \n",
       "4      86.213637                       39.386040                  False   \n",
       "\n",
       "   actual_distance_to_destination_outlier  \n",
       "0                                   False  \n",
       "1                                   False  \n",
       "2                                   False  \n",
       "3                                   False  \n",
       "4                                   False  "
      ]
     },
     "execution_count": 21,
     "metadata": {},
     "output_type": "execute_result"
    }
   ],
   "source": [
    "#Create a new column to flag outliers\n",
    "data['trip_duration_outlier'] = data['trip_duration'] > data['trip_duration'].quantile(0.95)\n",
    "data['actual_distance_to_destination_outlier'] = data['actual_distance_to_destination'] > data['actual_distance_to_destination'].quantile(0.95)\n",
    "\n",
    "data[['trip_duration','actual_distance_to_destination','trip_duration_outlier','actual_distance_to_destination_outlier']].head()"
   ]
  },
  {
   "cell_type": "code",
   "execution_count": 22,
   "id": "e6292682-0d23-4679-821c-3c8bc8c22370",
   "metadata": {},
   "outputs": [
    {
     "data": {
      "text/html": [
       "<div>\n",
       "<style scoped>\n",
       "    .dataframe tbody tr th:only-of-type {\n",
       "        vertical-align: middle;\n",
       "    }\n",
       "\n",
       "    .dataframe tbody tr th {\n",
       "        vertical-align: top;\n",
       "    }\n",
       "\n",
       "    .dataframe thead th {\n",
       "        text-align: right;\n",
       "    }\n",
       "</style>\n",
       "<table border=\"1\" class=\"dataframe\">\n",
       "  <thead>\n",
       "    <tr style=\"text-align: right;\">\n",
       "      <th></th>\n",
       "      <th>trip_duration</th>\n",
       "      <th>actual_distance_to_destination</th>\n",
       "      <th>trip_duration_outlier</th>\n",
       "      <th>actual_distance_to_destination_outlier</th>\n",
       "    </tr>\n",
       "  </thead>\n",
       "  <tbody>\n",
       "    <tr>\n",
       "      <th>0</th>\n",
       "      <td>86.213637</td>\n",
       "      <td>10.435660</td>\n",
       "      <td>False</td>\n",
       "      <td>False</td>\n",
       "    </tr>\n",
       "    <tr>\n",
       "      <th>1</th>\n",
       "      <td>86.213637</td>\n",
       "      <td>18.936842</td>\n",
       "      <td>False</td>\n",
       "      <td>False</td>\n",
       "    </tr>\n",
       "    <tr>\n",
       "      <th>2</th>\n",
       "      <td>86.213637</td>\n",
       "      <td>27.637279</td>\n",
       "      <td>False</td>\n",
       "      <td>False</td>\n",
       "    </tr>\n",
       "    <tr>\n",
       "      <th>3</th>\n",
       "      <td>86.213637</td>\n",
       "      <td>36.118028</td>\n",
       "      <td>False</td>\n",
       "      <td>False</td>\n",
       "    </tr>\n",
       "    <tr>\n",
       "      <th>4</th>\n",
       "      <td>86.213637</td>\n",
       "      <td>39.386040</td>\n",
       "      <td>False</td>\n",
       "      <td>False</td>\n",
       "    </tr>\n",
       "  </tbody>\n",
       "</table>\n",
       "</div>"
      ],
      "text/plain": [
       "   trip_duration  actual_distance_to_destination  trip_duration_outlier  \\\n",
       "0      86.213637                       10.435660                  False   \n",
       "1      86.213637                       18.936842                  False   \n",
       "2      86.213637                       27.637279                  False   \n",
       "3      86.213637                       36.118028                  False   \n",
       "4      86.213637                       39.386040                  False   \n",
       "\n",
       "   actual_distance_to_destination_outlier  \n",
       "0                                   False  \n",
       "1                                   False  \n",
       "2                                   False  \n",
       "3                                   False  \n",
       "4                                   False  "
      ]
     },
     "execution_count": 22,
     "metadata": {},
     "output_type": "execute_result"
    }
   ],
   "source": [
    "#Create a new column to flag outliers\n",
    "data['trip_duration_outlier'] = data['trip_duration'] > data['trip_duration'].quantile(0.95)\n",
    "data['actual_distance_to_destination_outlier'] = data['actual_distance_to_destination'] > data['actual_distance_to_destination'].quantile(0.95)\n",
    "\n",
    "data[['trip_duration','actual_distance_to_destination','trip_duration_outlier','actual_distance_to_destination_outlier']].head()"
   ]
  },
  {
   "cell_type": "code",
   "execution_count": 23,
   "id": "4a4a926a-639f-4494-b035-6957a2c8fbcd",
   "metadata": {},
   "outputs": [],
   "source": [
    "data.columns = [column.replace(' ', '_').lower() for column in data.columns]"
   ]
  },
  {
   "cell_type": "code",
   "execution_count": 24,
   "id": "bf4033b7-1cb8-476d-9904-52cf30434bc2",
   "metadata": {},
   "outputs": [
    {
     "ename": "ModuleNotFoundError",
     "evalue": "No module named 'sklearn'",
     "output_type": "error",
     "traceback": [
      "\u001b[0;31m---------------------------------------------------------------------------\u001b[0m",
      "\u001b[0;31mModuleNotFoundError\u001b[0m                       Traceback (most recent call last)",
      "Cell \u001b[0;32mIn[24], line 1\u001b[0m\n\u001b[0;32m----> 1\u001b[0m \u001b[38;5;28;01mfrom\u001b[39;00m \u001b[38;5;21;01msklearn\u001b[39;00m\u001b[38;5;21;01m.\u001b[39;00m\u001b[38;5;21;01mpreprocessing\u001b[39;00m \u001b[38;5;28;01mimport\u001b[39;00m MinMaxScaler\n\u001b[1;32m      3\u001b[0m scaler \u001b[38;5;241m=\u001b[39m MinMaxScaler()\n\u001b[1;32m      5\u001b[0m numeric_columns \u001b[38;5;241m=\u001b[39m data\u001b[38;5;241m.\u001b[39mselect_dtypes(include\u001b[38;5;241m=\u001b[39m[\u001b[38;5;124m'\u001b[39m\u001b[38;5;124mint64\u001b[39m\u001b[38;5;124m'\u001b[39m, \u001b[38;5;124m'\u001b[39m\u001b[38;5;124mfloat64\u001b[39m\u001b[38;5;124m'\u001b[39m])\u001b[38;5;241m.\u001b[39mcolumns\n",
      "\u001b[0;31mModuleNotFoundError\u001b[0m: No module named 'sklearn'"
     ]
    }
   ],
   "source": [
    "from sklearn.preprocessing import MinMaxScaler\n",
    "\n",
    "scaler = MinMaxScaler()\n",
    "\n",
    "numeric_columns = data.select_dtypes(include=['int64', 'float64']).columns\n",
    "\n",
    "data[numeric_columns] = scaler.fit_transform(data[numeric_columns])\n",
    "\n",
    "data[numeric_columns].head()"
   ]
  },
  {
   "cell_type": "code",
   "execution_count": null,
   "id": "acd49430-cace-43d7-9c9b-8a2ba0a1b0a7",
   "metadata": {},
   "outputs": [],
   "source": [
    "pip install sklearn"
   ]
  },
  {
   "cell_type": "code",
   "execution_count": null,
   "id": "1edf6fdc-607b-4ff2-866b-5cd2da498361",
   "metadata": {},
   "outputs": [],
   "source": [
    "pip install sklearn.preprocessing"
   ]
  },
  {
   "cell_type": "code",
   "execution_count": null,
   "id": "a66118ed-f956-495f-a516-80bac734d60b",
   "metadata": {},
   "outputs": [],
   "source": [
    "pip instakk sklearn"
   ]
  },
  {
   "cell_type": "code",
   "execution_count": null,
   "id": "e2b30ac3-33cd-4f49-ba9e-b84cc3a0c309",
   "metadata": {},
   "outputs": [],
   "source": [
    "pip install sklearn"
   ]
  },
  {
   "cell_type": "code",
   "execution_count": null,
   "id": "6e19d4f1-b1b9-48ce-aabb-b9b41f727a25",
   "metadata": {},
   "outputs": [],
   "source": [
    "from sklearn.preprocessing import MinMaxScaler\n",
    "\n",
    "scaler = MinMaxScaler()\n",
    "\n",
    "numeric_columns = data.select_dtypes(include=['int64', 'float64']).columns\n",
    "\n",
    "data[numeric_columns] = scaler.fit_transform(data[numeric_columns])\n",
    "\n",
    "data[numeric_columns].head()"
   ]
  },
  {
   "cell_type": "code",
   "execution_count": null,
   "id": "92847b9e-3b11-40d8-aaf0-58e2da6bca6b",
   "metadata": {},
   "outputs": [],
   "source": [
    "pip install sklearn"
   ]
  },
  {
   "cell_type": "code",
   "execution_count": 25,
   "id": "9f1a2671-9fe8-4955-a100-bf359897bc1e",
   "metadata": {},
   "outputs": [
    {
     "name": "stdout",
     "output_type": "stream",
     "text": [
      "Collecting scikit-learn\n",
      "  Downloading scikit_learn-1.5.2-cp312-cp312-macosx_12_0_arm64.whl.metadata (13 kB)\n",
      "Requirement already satisfied: numpy>=1.19.5 in /Library/Frameworks/Python.framework/Versions/3.12/lib/python3.12/site-packages (from scikit-learn) (2.1.3)\n",
      "Collecting scipy>=1.6.0 (from scikit-learn)\n",
      "  Downloading scipy-1.14.1-cp312-cp312-macosx_14_0_arm64.whl.metadata (60 kB)\n",
      "Collecting joblib>=1.2.0 (from scikit-learn)\n",
      "  Using cached joblib-1.4.2-py3-none-any.whl.metadata (5.4 kB)\n",
      "Collecting threadpoolctl>=3.1.0 (from scikit-learn)\n",
      "  Using cached threadpoolctl-3.5.0-py3-none-any.whl.metadata (13 kB)\n",
      "Downloading scikit_learn-1.5.2-cp312-cp312-macosx_12_0_arm64.whl (11.0 MB)\n",
      "\u001b[2K   \u001b[90m━━━━━━━━━━━━━━━━━━━━━━━━━━━━━━━━━━━━━━━━\u001b[0m \u001b[32m11.0/11.0 MB\u001b[0m \u001b[31m32.0 MB/s\u001b[0m eta \u001b[36m0:00:00\u001b[0m \u001b[36m0:00:01\u001b[0m\n",
      "\u001b[?25hUsing cached joblib-1.4.2-py3-none-any.whl (301 kB)\n",
      "Downloading scipy-1.14.1-cp312-cp312-macosx_14_0_arm64.whl (23.1 MB)\n",
      "\u001b[2K   \u001b[90m━━━━━━━━━━━━━━━━━━━━━━━━━━━━━━━━━━━━━━━━\u001b[0m \u001b[32m23.1/23.1 MB\u001b[0m \u001b[31m21.4 MB/s\u001b[0m eta \u001b[36m0:00:00\u001b[0m00:01\u001b[0m00:01\u001b[0m\n",
      "\u001b[?25hUsing cached threadpoolctl-3.5.0-py3-none-any.whl (18 kB)\n",
      "Installing collected packages: threadpoolctl, scipy, joblib, scikit-learn\n",
      "Successfully installed joblib-1.4.2 scikit-learn-1.5.2 scipy-1.14.1 threadpoolctl-3.5.0\n",
      "Note: you may need to restart the kernel to use updated packages.\n"
     ]
    }
   ],
   "source": [
    "pip install scikit-learn"
   ]
  },
  {
   "cell_type": "code",
   "execution_count": 26,
   "id": "c3399077-7abe-4782-a8be-d1ea955533fa",
   "metadata": {},
   "outputs": [
    {
     "data": {
      "text/html": [
       "<div>\n",
       "<style scoped>\n",
       "    .dataframe tbody tr th:only-of-type {\n",
       "        vertical-align: middle;\n",
       "    }\n",
       "\n",
       "    .dataframe tbody tr th {\n",
       "        vertical-align: top;\n",
       "    }\n",
       "\n",
       "    .dataframe thead th {\n",
       "        text-align: right;\n",
       "    }\n",
       "</style>\n",
       "<table border=\"1\" class=\"dataframe\">\n",
       "  <thead>\n",
       "    <tr style=\"text-align: right;\">\n",
       "      <th></th>\n",
       "      <th>start_scan_to_end_scan</th>\n",
       "      <th>cutoff_factor</th>\n",
       "      <th>actual_distance_to_destination</th>\n",
       "      <th>actual_time</th>\n",
       "      <th>osrm_time</th>\n",
       "      <th>osrm_distance</th>\n",
       "      <th>factor</th>\n",
       "      <th>segment_actual_time</th>\n",
       "      <th>segment_osrm_time</th>\n",
       "      <th>segment_osrm_distance</th>\n",
       "      <th>segment_factor</th>\n",
       "      <th>trip_duration</th>\n",
       "    </tr>\n",
       "  </thead>\n",
       "  <tbody>\n",
       "    <tr>\n",
       "      <th>0</th>\n",
       "      <td>0.008378</td>\n",
       "      <td>0.000000</td>\n",
       "      <td>0.000748</td>\n",
       "      <td>0.001105</td>\n",
       "      <td>0.002976</td>\n",
       "      <td>0.001276</td>\n",
       "      <td>0.014613</td>\n",
       "      <td>0.078300</td>\n",
       "      <td>0.006828</td>\n",
       "      <td>0.005460</td>\n",
       "      <td>0.041354</td>\n",
       "      <td>0.008316</td>\n",
       "    </tr>\n",
       "    <tr>\n",
       "      <th>1</th>\n",
       "      <td>0.008378</td>\n",
       "      <td>0.004692</td>\n",
       "      <td>0.005180</td>\n",
       "      <td>0.003316</td>\n",
       "      <td>0.008333</td>\n",
       "      <td>0.005488</td>\n",
       "      <td>0.013671</td>\n",
       "      <td>0.077086</td>\n",
       "      <td>0.005587</td>\n",
       "      <td>0.004453</td>\n",
       "      <td>0.041084</td>\n",
       "      <td>0.008316</td>\n",
       "    </tr>\n",
       "    <tr>\n",
       "      <th>2</th>\n",
       "      <td>0.008378</td>\n",
       "      <td>0.009385</td>\n",
       "      <td>0.009715</td>\n",
       "      <td>0.006854</td>\n",
       "      <td>0.013095</td>\n",
       "      <td>0.010155</td>\n",
       "      <td>0.016630</td>\n",
       "      <td>0.078907</td>\n",
       "      <td>0.004345</td>\n",
       "      <td>0.004935</td>\n",
       "      <td>0.043049</td>\n",
       "      <td>0.008316</td>\n",
       "    </tr>\n",
       "    <tr>\n",
       "      <th>3</th>\n",
       "      <td>0.008378</td>\n",
       "      <td>0.014077</td>\n",
       "      <td>0.014135</td>\n",
       "      <td>0.011718</td>\n",
       "      <td>0.020238</td>\n",
       "      <td>0.015775</td>\n",
       "      <td>0.018202</td>\n",
       "      <td>0.080425</td>\n",
       "      <td>0.007449</td>\n",
       "      <td>0.005942</td>\n",
       "      <td>0.042153</td>\n",
       "      <td>0.008316</td>\n",
       "    </tr>\n",
       "    <tr>\n",
       "      <th>4</th>\n",
       "      <td>0.008378</td>\n",
       "      <td>0.015641</td>\n",
       "      <td>0.015839</td>\n",
       "      <td>0.013044</td>\n",
       "      <td>0.022619</td>\n",
       "      <td>0.019511</td>\n",
       "      <td>0.018143</td>\n",
       "      <td>0.075873</td>\n",
       "      <td>0.003104</td>\n",
       "      <td>0.001787</td>\n",
       "      <td>0.041233</td>\n",
       "      <td>0.008316</td>\n",
       "    </tr>\n",
       "  </tbody>\n",
       "</table>\n",
       "</div>"
      ],
      "text/plain": [
       "   start_scan_to_end_scan  cutoff_factor  actual_distance_to_destination  \\\n",
       "0                0.008378       0.000000                        0.000748   \n",
       "1                0.008378       0.004692                        0.005180   \n",
       "2                0.008378       0.009385                        0.009715   \n",
       "3                0.008378       0.014077                        0.014135   \n",
       "4                0.008378       0.015641                        0.015839   \n",
       "\n",
       "   actual_time  osrm_time  osrm_distance    factor  segment_actual_time  \\\n",
       "0     0.001105   0.002976       0.001276  0.014613             0.078300   \n",
       "1     0.003316   0.008333       0.005488  0.013671             0.077086   \n",
       "2     0.006854   0.013095       0.010155  0.016630             0.078907   \n",
       "3     0.011718   0.020238       0.015775  0.018202             0.080425   \n",
       "4     0.013044   0.022619       0.019511  0.018143             0.075873   \n",
       "\n",
       "   segment_osrm_time  segment_osrm_distance  segment_factor  trip_duration  \n",
       "0           0.006828               0.005460        0.041354       0.008316  \n",
       "1           0.005587               0.004453        0.041084       0.008316  \n",
       "2           0.004345               0.004935        0.043049       0.008316  \n",
       "3           0.007449               0.005942        0.042153       0.008316  \n",
       "4           0.003104               0.001787        0.041233       0.008316  "
      ]
     },
     "execution_count": 26,
     "metadata": {},
     "output_type": "execute_result"
    }
   ],
   "source": [
    "from sklearn.preprocessing import MinMaxScaler\n",
    "\n",
    "scaler = MinMaxScaler()\n",
    "\n",
    "numeric_columns = data.select_dtypes(include=['int64', 'float64']).columns\n",
    "\n",
    "data[numeric_columns] = scaler.fit_transform(data[numeric_columns])\n",
    "\n",
    "data[numeric_columns].head()"
   ]
  },
  {
   "cell_type": "code",
   "execution_count": 27,
   "id": "d5e79df7-f25a-4b99-9ed1-39e22c80123e",
   "metadata": {},
   "outputs": [],
   "source": [
    "data.to_csv('delhivery_cleaned_data.csv', index=False)"
   ]
  },
  {
   "cell_type": "code",
   "execution_count": null,
   "id": "4a3d4c74-9d6f-402b-9d9e-ec559265bb4f",
   "metadata": {},
   "outputs": [],
   "source": []
  }
 ],
 "metadata": {
  "kernelspec": {
   "display_name": "Python 3 (ipykernel)",
   "language": "python",
   "name": "python3"
  },
  "language_info": {
   "codemirror_mode": {
    "name": "ipython",
    "version": 3
   },
   "file_extension": ".py",
   "mimetype": "text/x-python",
   "name": "python",
   "nbconvert_exporter": "python",
   "pygments_lexer": "ipython3",
   "version": "3.12.3"
  }
 },
 "nbformat": 4,
 "nbformat_minor": 5
}
